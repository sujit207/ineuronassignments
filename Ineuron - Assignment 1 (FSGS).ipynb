{
 "cells": [
  {
   "cell_type": "raw",
   "metadata": {},
   "source": [
    "1. In the below elements which of them are values or an expression? eg:- values can be integer or string and expressions will be mathematical operators.\n",
    "* \n",
    "'hello'\n",
    "-87.8\n",
    "- \n",
    "/ \n",
    "+\t\n",
    "6 \n",
    "\n",
    "answer - \n",
    "* is an expression \n",
    "'hello' is a value \n",
    "-87.8 is a value \n",
    "- is an expression \n",
    "/ is an expression \n",
    "+ is an expression \n",
    "6 is a value"
   ]
  },
  {
   "cell_type": "raw",
   "metadata": {},
   "source": [
    "2. What is the difference between string and variable?\n",
    "answer - \n",
    "string is a datatype which is immutable in nature. it can be combination of alphabets or numerical entity enclosed in single /double quotes. while variable a entity which holds certain reserved memory location to store values(numerical/alphabetical). variable always starts with a alphabetical character and its always user-defined. \n"
   ]
  },
  {
   "cell_type": "raw",
   "metadata": {},
   "source": [
    "3. Describe three different data types.\n",
    "answer - \n",
    "string - datatype which is immutable in nature. its combination of alphabets or numerical entity enclosed in single /double/tripple quotes\n",
    "list - datatype which is mutable in nature. its a sequence of ordered elements stored within square brackets. elements within list are called item. \n",
    "tuple - datatype which is immutable in nature. its a sequence of ordered elements stored within round brackets. "
   ]
  },
  {
   "cell_type": "raw",
   "metadata": {},
   "source": [
    "4.What is an expression made up of? What do all expressions do?\n",
    "answer-\n",
    "in python expressions are basically mathematical operators. "
   ]
  },
  {
   "cell_type": "raw",
   "metadata": {},
   "source": [
    "5. This assignment statements, like spam = 10. What is the difference between an expression and a statement?\n",
    "answer- \n",
    "expression will always tends to provide a result or value while statement not neccessarily gives value always. "
   ]
  },
  {
   "cell_type": "raw",
   "metadata": {},
   "source": [
    "6. After running the following code, what does the variable bacon contain?\n",
    "bacon = 22\n",
    "bacon + 1\n",
    "answer- \n",
    "22"
   ]
  },
  {
   "cell_type": "raw",
   "metadata": {},
   "source": [
    "7. What should the values of the following two terms be?\n",
    "'spam' + 'spamspam'\n",
    "'spam' * 3\n",
    "answer - \n",
    "'spam' + 'spamspam' -------'spamspamspam' (concatination by addition)\n",
    "'spam'*3 -----'spamspamspam'(concatination by multiplication)\n"
   ]
  },
  {
   "cell_type": "raw",
   "metadata": {},
   "source": [
    "8. Why is eggs a valid variable name while 100 is invalid?\n",
    "answer-\n",
    "variable can never initiate with a numerical entity. it should always start with an alphabet\n"
   ]
  },
  {
   "cell_type": "raw",
   "metadata": {},
   "source": [
    "9. What three functions can be used to get the integer, floating-point number, or string version of a value?\n",
    "answer- \n",
    "for interger we have to use int(value)\n",
    "for floating number we have to use float(value)\n",
    "for string version we have to use str(value)\n",
    "these are basically different ways of typecasting operations. "
   ]
  },
  {
   "cell_type": "raw",
   "metadata": {},
   "source": [
    "10. Why does this expression cause an error? How can you fix it?\n",
    "'I have eaten ' + 99 + ' burritos.'\n",
    "answer -\n",
    "concatination operation can only be conducted through strings. here 99 is not a string. its an integer. so cant concatinate\n",
    "so in this case we have to enclose 99 in between single quote like below \n",
    "'I have eaten ' + '99' + ' burritos.'"
   ]
  },
  {
   "cell_type": "code",
   "execution_count": null,
   "metadata": {},
   "outputs": [],
   "source": []
  }
 ],
 "metadata": {
  "kernelspec": {
   "display_name": "Python 3",
   "language": "python",
   "name": "python3"
  },
  "language_info": {
   "codemirror_mode": {
    "name": "ipython",
    "version": 3
   },
   "file_extension": ".py",
   "mimetype": "text/x-python",
   "name": "python",
   "nbconvert_exporter": "python",
   "pygments_lexer": "ipython3",
   "version": "3.7.6"
  }
 },
 "nbformat": 4,
 "nbformat_minor": 4
}
